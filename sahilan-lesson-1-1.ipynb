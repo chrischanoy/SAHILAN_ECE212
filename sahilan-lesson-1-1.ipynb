{
 "cells": [
  {
   "cell_type": "markdown",
   "metadata": {},
   "source": [
    "# The Python Programming Language"
   ]
  },
  {
   "cell_type": "markdown",
   "metadata": {},
   "source": [
    "The\tprogramming\tlanguage\tyou\twill\tbe\tlearning\tis\tPython.\tPython\tis\tan\texample\tof\ta highlevel\tlanguage;\tother\thigh-level\tlanguages you\tmight\thave\theard\tof\tare\tC++,\tPHP,\tand\t\n",
    "Java."
   ]
  },
  {
   "cell_type": "markdown",
   "metadata": {},
   "source": [
    "Programs\twritten\tin\ta\thighlevel\tlanguage\ttake\tless\ttime\tto\twrite,\tthey\tare\tshorter\tand\teasier\tto\tread,\tand\tthey\tare\tmore\tlikely\tto\tbe\tcorrect.\tSecond,\thigh-level\tlanguages\tare portable,\tmeaning\tthat\tthey\tcan\trun\ton\tdifferent\tkinds\tof\tcomputers\twith\tfew\tor\tno\tmodifications.\tLow-level\tprograms\tcan\t\n",
    "run\ton\tonly\tone\tkind\tof\tcomputer\tand\thave\tto\tbe\trewritten\tto\trun\ton\tanother."
   ]
  },
  {
   "cell_type": "markdown",
   "metadata": {},
   "source": [
    "# Application"
   ]
  },
  {
   "cell_type": "markdown",
   "metadata": {},
   "source": [
    "## Ask yourself:\n"
   ]
  },
  {
   "cell_type": "markdown",
   "metadata": {},
   "source": [
    "1. Why do you think Python is the most applicable programming language for scientific computing?"
   ]
  },
  {
   "cell_type": "markdown",
   "metadata": {},
   "source": [
    " Python is the most applicable programming language for scientific computing because it is easy to write and performs well. Due to its high performance nature, scientific computing in Python often utilizes external libraries, typically written in faster languages (like C, or Fortran for matrix operations). "
   ]
  },
  {
   "cell_type": "markdown",
   "metadata": {},
   "source": [
    "2. If python can build anything, where do you think Python is not applicable for?"
   ]
  },
  {
   "cell_type": "markdown",
   "metadata": {},
   "source": [
    "Python is not applicable for mobile environment. Neither iOs nor Android support python as an official programming language."
   ]
  },
  {
   "cell_type": "markdown",
   "metadata": {},
   "source": [
    "### Exercise 1: Mailing Address (Solved, 9 Lines)"
   ]
  },
  {
   "cell_type": "markdown",
   "metadata": {},
   "source": [
    "Create a program that displays your name and complete mailing address. The address should be printed in the format that is normally used in the area where you live. Your program does not need to read any input from the user."
   ]
  },
  {
   "cell_type": "code",
   "execution_count": null,
   "metadata": {},
   "outputs": [],
   "source": [
    "print(\"John Christian Sahilan\")\n",
    "print (\"Prk. 10 Andrea Homes\")\n",
    "print (\"New Visayas\")\n",
    "print (\"Panabo City, Davao del Norte\")\n",
    "print (\"Philippines\")"
   ]
  },
  {
   "cell_type": "markdown",
   "metadata": {},
   "source": [
    "### Exercise 2: Area of a Room(Solved, 13 lines)\n"
   ]
  },
  {
   "cell_type": "markdown",
   "metadata": {},
   "source": [
    " Write a program that asks the user to to enter the width and length of a room. Once these values have been read, your program should compute and display the area of the room. \n",
    "    The length and the width will be entered as floating-point numbers. Include units in your prompt and output message; either feet or meters, depending on which unit you are more comfortable working with."
   ]
  },
  {
   "cell_type": "code",
   "execution_count": null,
   "metadata": {},
   "outputs": [],
   "source": [
    "#Compute the area of room \n",
    "\n",
    "#read the dimensions from the user\n",
    "lenght =  float(input(\"Enter the lenght the room in ft\"))\n",
    "width = float(input(\"Enter the width off the room in ft\"))\n",
    "\n",
    "#Compute the area of the room\n",
    "area = lenght * width\n",
    "\n",
    "#display of result\n",
    "print(\"The area of the room is\", area, \"square feet\")"
   ]
  },
  {
   "cell_type": "markdown",
   "metadata": {},
   "source": [
    "### Exercise 3: Arithmetic (Solved, 22 lines)"
   ]
  },
  {
   "cell_type": "markdown",
   "metadata": {},
   "source": [
    "Create a program that reads two integers, a and b, from the user. Your program should\n",
    "compute and display:"
   ]
  },
  {
   "cell_type": "markdown",
   "metadata": {},
   "source": [
    "• The sum of a and b\n",
    "\n",
    "• The difference when b is subtracted from a\n",
    "\n",
    "• The product of a and b\n",
    "\n",
    "• The quotient when a is divided by b\n",
    "\n",
    "• The remainder when a is divided by b\n",
    "\n",
    "• The result of log10 a\n",
    "\n",
    "• The result of ab\n",
    "\n",
    "Hint: You will probably find the log10 function in the math module helpful\n",
    "for computing the second last item in the list."
   ]
  },
  {
   "cell_type": "code",
   "execution_count": null,
   "metadata": {},
   "outputs": [],
   "source": [
    "import math\n",
    "#Reading numbers from user\n",
    "a = int(input(\"Enter first number: \"))\n",
    "b = int(input(\"Enter second number: \"))\n",
    "#Calculating and printing sum\n",
    "print(a,\"+\",b,\"=\",a+b)\n",
    "#Calculating and printing difference\n",
    "print(a,\"-\",b,\"=\",a-b)\n",
    "#Calculating and printing Quotient\n",
    "print(a,\"/\",b,\"=\",a/b)\n",
    "#Calculating and printing product\n",
    "print(a,\"*\",b,\"=\",a*b)\n",
    "#Calculating and printing remainder\n",
    "print(a,\"%\",b,\"=\",a%b)\n",
    "#Calculating and printing log10 a\n",
    "print (\"math.log10(a) : \", math.log10(a))\n",
    "#Calculating and printing log10ab\n",
    "print (\"math.log10(ab) : \", math.log10(a)+ math.log10(b))"
   ]
  },
  {
   "cell_type": "markdown",
   "metadata": {},
   "source": [
    "### Exercise 4: Area and Volume (15 lines)"
   ]
  },
  {
   "cell_type": "markdown",
   "metadata": {},
   "source": [
    "Write a python program that begins by reading a radius, r, from the user.The program will continue by computing and displaying the area of a circle with radius r and the volume of a sphere with radius r \n",
    "Use the value pi = 3.142 for your calculations."
   ]
  },
  {
   "cell_type": "code",
   "execution_count": 3,
   "metadata": {},
   "outputs": [
    {
     "ename": "IndentationError",
     "evalue": "unexpected indent (<ipython-input-3-831cbb033f6c>, line 2)",
     "output_type": "error",
     "traceback": [
      "\u001b[1;36m  File \u001b[1;32m\"<ipython-input-3-831cbb033f6c>\"\u001b[1;36m, line \u001b[1;32m2\u001b[0m\n\u001b[1;33m    radius = float(input(\"\\nEnter the radius: \"))\u001b[0m\n\u001b[1;37m    ^\u001b[0m\n\u001b[1;31mIndentationError\u001b[0m\u001b[1;31m:\u001b[0m unexpected indent\n"
     ]
    }
   ],
   "source": [
    "# Read radius\n",
    "    radius = float(input(\"\\nEnter the radius: \"))\n",
    "    pi = 3.142\n",
    "    # Calculate area of the circle and volume of shpere\n",
    "    area_circle = pi * radius * radius\n",
    "    volume_sphere = 4/3 * pi * radius * radius * radius\n",
    "    # Display the result with radius\n",
    "    print(\"Area of the circle of radius\",round(radius,2),\"is:\",round(area_circle,2))\n",
    "    print(\"Volume of the sphere of radius\",round(radius,2),\"is:\",round(volume_sphere,2))\n",
    "    "
   ]
  },
  {
   "cell_type": "code",
   "execution_count": null,
   "metadata": {},
   "outputs": [],
   "source": []
  },
  {
   "cell_type": "code",
   "execution_count": null,
   "metadata": {},
   "outputs": [],
   "source": []
  }
 ],
 "metadata": {
  "kernelspec": {
   "display_name": "Python 3",
   "language": "python",
   "name": "python3"
  },
  "language_info": {
   "codemirror_mode": {
    "name": "ipython",
    "version": 3
   },
   "file_extension": ".py",
   "mimetype": "text/x-python",
   "name": "python",
   "nbconvert_exporter": "python",
   "pygments_lexer": "ipython3",
   "version": "3.8.3"
  }
 },
 "nbformat": 4,
 "nbformat_minor": 4
}
